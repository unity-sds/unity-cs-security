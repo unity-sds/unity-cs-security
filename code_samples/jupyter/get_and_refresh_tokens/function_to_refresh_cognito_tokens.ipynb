{
 "cells": [
  {
   "cell_type": "code",
   "execution_count": null,
   "id": "c771123e-932a-402d-9e29-517542c347ee",
   "metadata": {
    "tags": []
   },
   "outputs": [],
   "source": [
    "pip install boto3"
   ]
  },
  {
   "cell_type": "code",
   "execution_count": null,
   "id": "726315ff-c00d-40fd-baf8-8bf7240fd032",
   "metadata": {
    "tags": []
   },
   "outputs": [],
   "source": [
    "import os\n",
    "import time\n",
    "import boto3\n",
    "import json\n",
    "\n",
    "def get_unity_cognito_access_token():\n",
    "    \n",
    "    \"\"\"\n",
    "    Returns the Cognito access token. If the Cognito access token is expired, then this function uses the Cognito refresh token\n",
    "    to refresh the environment variables: UNITY_COGNITO_ACCESS_TOKEN, UNITY_COGNITO_ID_TOKEN and UNITY_COGNITO_ACCESS_TOKEN_EXPIRY. \n",
    "    After renewing the environment variables, this fucntions returns the new Cognito access token.\n",
    "    \n",
    "    The environment variables UNITY_COGNITO_ACCESS_TOKEN_EXPIRY, UNITY_COGNITO_REFRESH_TOKEN, UNITY_COGNITO_SECRET_HASH, \n",
    "    UNITY_COGNITO_APP_CLIENT_ID and  UNITY_COGNITO_ACCESS_TOKEN should be available for this function to work. These environment variables\n",
    "    are populated during the JupyterLab spawn.\n",
    "    \n",
    "    This function uses the Cognito refresh token and by default the Cognito refresh token will expire after 30 days. It was assumed that this JupyterLab\n",
    "    will not stay active more more than 30 days. If this assumption is no longer valid in future, it is required to update this fucntion to update the environment \n",
    "    variable REFRESH_TOKEN_AUTH too using the client_idp.initiate_auth with USER_PASSWORD_AUTH auth flow. \n",
    "    \n",
    "    The following link contains an example where user name and password is obtained from a user to execute the client_idp.initiate_auth with USER_PASSWORD_AUTH auth flow.\n",
    "    https://github.com/unity-sds/unity-cs-security/blob/main/code_samples/jupyter/identity_pool_aws_creds/Cognito-Identity-Pool-S3-Access.ipynb\n",
    "    \"\"\"\n",
    "    \n",
    "    unity_cognito_access_token_expiry = int(os.environ.get('UNITY_COGNITO_ACCESS_TOKEN_EXPIRY'))\n",
    "    current_epoch_seconds = int(time.time())\n",
    "\n",
    "    # Check if the Cognito access token is expired\n",
    "    if current_epoch_seconds > unity_cognito_access_token_expiry:\n",
    "        # Get a new token\n",
    "        client = boto3.client('cognito-idp', region_name='us-west-2')\n",
    "\n",
    "        # Get tokens from Cognito using the refresh token\n",
    "        response = client.initiate_auth(\n",
    "            AuthFlow='REFRESH_TOKEN_AUTH',\n",
    "            AuthParameters={\n",
    "                'REFRESH_TOKEN': os.environ.get('UNITY_COGNITO_REFRESH_TOKEN'),\n",
    "                'SECRET_HASH': os.environ.get('UNITY_COGNITO_SECRET_HASH')\n",
    "            },\n",
    "            ClientId = os.environ.get('UNITY_COGNITO_APP_CLIENT_ID')\n",
    "        )\n",
    "\n",
    "        access_token = response['AuthenticationResult']['AccessToken']\n",
    "        id_token = response['AuthenticationResult']['IdToken']\n",
    "        access_token_expiry = current_epoch_seconds + int(response['AuthenticationResult']['ExpiresIn'])\n",
    "\n",
    "        os.environ[\"UNITY_COGNITO_ACCESS_TOKEN\"] = str(access_token)\n",
    "        os.environ[\"UNITY_COGNITO_ID_TOKEN\"] = str(id_token)\n",
    "        os.environ[\"UNITY_COGNITO_ACCESS_TOKEN_EXPIRY\"] = str(access_token_expiry)\n",
    "        \n",
    "    return os.environ.get('UNITY_COGNITO_ACCESS_TOKEN')\n"
   ]
  },
  {
   "cell_type": "code",
   "execution_count": null,
   "id": "566ec32b-a48e-423e-82cf-d38ae348ffc8",
   "metadata": {
    "tags": []
   },
   "outputs": [],
   "source": [
    "print(get_unity_cognito_access_token())"
   ]
  }
 ],
 "metadata": {
  "kernelspec": {
   "display_name": "Python 3 (ipykernel)",
   "language": "python",
   "name": "python3"
  },
  "language_info": {
   "codemirror_mode": {
    "name": "ipython",
    "version": 3
   },
   "file_extension": ".py",
   "mimetype": "text/x-python",
   "name": "python",
   "nbconvert_exporter": "python",
   "pygments_lexer": "ipython3",
   "version": "3.10.10"
  }
 },
 "nbformat": 4,
 "nbformat_minor": 5
}
