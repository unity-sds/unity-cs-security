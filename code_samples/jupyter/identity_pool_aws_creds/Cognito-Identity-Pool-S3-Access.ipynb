{
 "cells": [
  {
   "cell_type": "markdown",
   "id": "6299d535-542f-4fb3-b481-cd4ccbd5b27e",
   "metadata": {
    "tags": []
   },
   "source": [
    "Install Boto3"
   ]
  },
  {
   "cell_type": "code",
   "execution_count": null,
   "id": "766c2a19-6c14-4027-87f0-e61c893541bf",
   "metadata": {},
   "outputs": [],
   "source": [
    "pip install boto3"
   ]
  },
  {
   "cell_type": "markdown",
   "id": "8dd2f470-0d43-437d-b3e8-ffc0df0cc1fd",
   "metadata": {},
   "source": [
    "Set constants"
   ]
  },
  {
   "cell_type": "code",
   "execution_count": null,
   "id": "6fbd21fb-328d-47d2-aab1-e56c66972354",
   "metadata": {},
   "outputs": [],
   "source": [
    "import boto3\n",
    "import json\n",
    "import getpass\n",
    "\n",
    "# Set constants\n",
    "IDENTITY_POOL_ID = '<IDENTITY_POOL_ID>'\n",
    "AWS_ACCOUNT_ID = '<AWS_ACCOUNT_ID>'\n",
    "COGNITO_USER_POOL_ID = '<COGNITO_USER_POOL_ID>'\n",
    "COGNITO_CLIENT_ID = '<COGNITO_CLIENT_ID>'\n",
    "REGION = 'us-west-2'\n"
   ]
  },
  {
   "cell_type": "markdown",
   "id": "a463eb6e-155a-492e-9b4e-9bb1a8af67a6",
   "metadata": {},
   "source": [
    "Get Cognito ID Token"
   ]
  },
  {
   "cell_type": "code",
   "execution_count": null,
   "id": "4135058e-39bd-4b08-ac76-cbe186025947",
   "metadata": {},
   "outputs": [],
   "source": [
    "# Create Cognito IDP client\n",
    "client_idp = boto3.client('cognito-idp', region_name=REGION)\n",
    " \n",
    "# Promt the user to enter the username and password\n",
    "username = input('Enter your Cognito username: ')\n",
    "password = getpass.getpass('Enter your Cognito password: ')\n",
    "auth_params = {\n",
    "    \"USERNAME\" : username,\n",
    "    \"PASSWORD\" : password\n",
    "}\n",
    "\n",
    "# Get tokens from Cognito\n",
    "response = client_idp.initiate_auth(\n",
    "    AuthFlow = 'USER_PASSWORD_AUTH',\n",
    "    AuthParameters = auth_params,\n",
    "    ClientId = COGNITO_CLIENT_ID\n",
    ")\n",
    "\n",
    "# Read ID token\n",
    "id_token = response['AuthenticationResult']['IdToken']\n",
    "print('ID Token = ' + id_token)"
   ]
  },
  {
   "cell_type": "markdown",
   "id": "ce32df7f-a4ef-4ed1-8b45-cbff22c82725",
   "metadata": {},
   "source": [
    "Get temporary AWS credentials"
   ]
  },
  {
   "cell_type": "code",
   "execution_count": null,
   "id": "bdccdde1-2b25-41f9-aa8b-d32dadbe3b6c",
   "metadata": {},
   "outputs": [],
   "source": [
    "# Create Cognito Identity client\n",
    "client_identify = boto3.client('cognito-identity', region_name = REGION)\n",
    "\n",
    "# Get Identify ID\n",
    "response_identity_get_id = client_identify.get_id(\n",
    "            AccountId = AWS_ACCOUNT_ID,\n",
    "            IdentityPoolId = IDENTITY_POOL_ID,\n",
    "            Logins = {\n",
    "                'cognito-idp.us-west-2.amazonaws.com/' + COGNITO_USER_POOL_ID : id_token\n",
    "            }\n",
    ") \n",
    "IDENTITY_ID = response_identity_get_id['IdentityId']                                                                     \n",
    " \n",
    "    \n",
    "# Get temporary AWS credentials for identity    \n",
    "aws_credentials = client_identify.get_credentials_for_identity(\n",
    "    IdentityId = IDENTITY_ID,\n",
    "    Logins = {\n",
    "        'cognito-idp.us-west-2.amazonaws.com/' + COGNITO_USER_POOL_ID : id_token\n",
    "    }\n",
    ")\n",
    "\n",
    "access_key_id = aws_credentials['Credentials']['AccessKeyId']\n",
    "secret_key = aws_credentials['Credentials']['SecretKey']\n",
    "session_token = aws_credentials['Credentials']['SessionToken']\n",
    "\n",
    "print('AWS Access Key ID: ' + access_key_id)\n",
    "print('AWS Secret Key: ' + secret_key)\n",
    "print('AWS Session Token: ' + session_token)"
   ]
  },
  {
   "cell_type": "markdown",
   "id": "745b0fbf-3474-4c9e-b791-c836bbf5d32f",
   "metadata": {},
   "source": [
    "Access S3 and Print S3 Bucket Names"
   ]
  },
  {
   "cell_type": "code",
   "execution_count": null,
   "id": "fda6dfe8-b4e8-4e53-88dc-23d5d743e614",
   "metadata": {},
   "outputs": [],
   "source": [
    "# Create an S3 client\n",
    "s3_client = boto3.client('s3', \n",
    "                      aws_access_key_id = access_key_id,\n",
    "                      aws_secret_access_key = secret_key,\n",
    "                      aws_session_token = session_token,\n",
    "                      region_name = REGION\n",
    "                      )\n",
    "    \n",
    "s3_response = s3_client.list_buckets()\n",
    "\n",
    "# Print S3 bucket names\n",
    "print('Existing buckets:')\n",
    "for bucket in s3_response['Buckets']:\n",
    "    print(f'  {bucket[\"Name\"]}')"
   ]
  },
  {
   "cell_type": "code",
   "execution_count": null,
   "id": "9a9049de-941a-433a-9410-67528983ac57",
   "metadata": {},
   "outputs": [],
   "source": []
  }
 ],
 "metadata": {
  "kernelspec": {
   "display_name": "Python 3 (ipykernel)",
   "language": "python",
   "name": "python3"
  },
  "language_info": {
   "codemirror_mode": {
    "name": "ipython",
    "version": 3
   },
   "file_extension": ".py",
   "mimetype": "text/x-python",
   "name": "python",
   "nbconvert_exporter": "python",
   "pygments_lexer": "ipython3",
   "version": "3.10.6"
  }
 },
 "nbformat": 4,
 "nbformat_minor": 5
}
