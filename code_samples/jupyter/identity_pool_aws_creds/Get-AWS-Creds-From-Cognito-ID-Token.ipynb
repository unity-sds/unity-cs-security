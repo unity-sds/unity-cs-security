{
 "cells": [
  {
   "cell_type": "code",
   "execution_count": null,
   "id": "1bb3b2b3-85d6-4237-8e93-4940fb5bdcac",
   "metadata": {
    "tags": []
   },
   "outputs": [],
   "source": [
    "pip install boto3"
   ]
  },
  {
   "cell_type": "code",
   "execution_count": null,
   "id": "90135de7-f963-4708-9ade-9481c515f0a9",
   "metadata": {
    "tags": []
   },
   "outputs": [],
   "source": [
    "import boto3\n",
    "import json\n",
    "import getpass\n",
    "import os\n",
    "\n",
    "# Set constants\n",
    "\n",
    "# Obtain the Cognito identity pool ID from the Unity Common Services Team\n",
    "IDENTITY_POOL_ID = 'us-west-2:a1b74bf5-21a2-4140-85ff-3a9615ea4e21'\n",
    "\n",
    "# You AWS Account ID\n",
    "AWS_ACCOUNT_ID = '237868187491'\n",
    "\n",
    "# Obtain the Cognito user pool ID from the Unity Common Services Team\n",
    "COGNITO_USER_POOL_ID = 'us-west-2_yaOw3yj0z'\n",
    "\n",
    "# Obtain the Cognito Client ID relevant to your usecase from the Unity Common Services Team\n",
    "COGNITO_CLIENT_ID = '71g0c73jl77gsqhtlfg2ht388c'\n",
    "\n",
    "# AWS Region\n",
    "REGION = 'us-west-2'"
   ]
  },
  {
   "cell_type": "code",
   "execution_count": null,
   "id": "e51b3a8b-539f-4946-a09b-8f215ea7bea1",
   "metadata": {
    "tags": []
   },
   "outputs": [],
   "source": [
    "'''\n",
    "The following code obtained an ID token using the USER_PASSWORD_AUTH auth flow of client_idp.initiate_auth(). This code interactively requests for\n",
    "username and password to obtain the ID token. This code is only added for demonstration purposes and usually the Cognito ID token should be available \n",
    "as the UNITY_COGNITO_ID_TOKEN environment variable, which is stored during the JupyterLab spawn or an access token refresh.\n",
    "\n",
    "'''\n",
    "\n",
    "# Create Cognito IDP client\n",
    "client_idp = boto3.client('cognito-idp', region_name=REGION)\n",
    " \n",
    "# Promt the user to enter the username and password\n",
    "username = input('Enter your Cognito username: ')\n",
    "password = getpass.getpass('Enter your Cognito password: ')\n",
    "auth_params = {\n",
    "    \"USERNAME\" : username,\n",
    "    \"PASSWORD\" : password\n",
    "}\n",
    "\n",
    "# Get tokens from Cognito\n",
    "response = client_idp.initiate_auth(\n",
    "    AuthFlow = 'USER_PASSWORD_AUTH',\n",
    "    AuthParameters = auth_params,\n",
    "    ClientId = COGNITO_CLIENT_ID\n",
    ")\n",
    "\n",
    "# Read ID token\n",
    "id_token = response['AuthenticationResult']['IdToken']\n",
    "print('ID Token = ' + id_token)\n",
    "os.environ[\"UNITY_COGNITO_ID_TOKEN\"] = str(id_token)\n",
    "\n",
    "        \n"
   ]
  },
  {
   "cell_type": "code",
   "execution_count": null,
   "id": "80a43800-6634-4c62-9c22-bb852ea8d15e",
   "metadata": {
    "tags": []
   },
   "outputs": [],
   "source": [
    "def get_aws_creds_from_cognito_id_token(cognito_identity_pool_id, cognito_user_pool_id, aws_account_id, region, cognito_id_token):\n",
    "    \n",
    "    '''\n",
    "    Stores AWS Access Key ID, Secret Key and Session Token as environment variables UNITY_AWS_ACCESS_KEY_ID, UNITY_AWS_SECRET_ACCESS_KEY and UNITY_AWS_SESSION_TOKEN.\n",
    "    \n",
    "    The following parameters should be provided:\n",
    "    \n",
    "    Parameter cognito_identity_pool_id: Obtain the Cognito identity pool ID from the Unity Common Services Team\n",
    "    Parameter cognito_user_pool_id: Obtain the Cognito user pool ID from the Unity Common Services Team\n",
    "    Parameter aws_account_id: AWS Account ID\n",
    "    Parameter region: AWS region\n",
    "    Parameter cognito_id_token: The =Cognito ID token (stored as environment variable UNITY_COGNITO_ID_TOKEN as a result of a previous step/process)\n",
    "\n",
    "    \n",
    "    '''\n",
    "    \n",
    "    # Create Cognito Identity client\n",
    "    client_identify = boto3.client('cognito-identity', region_name = REGION)\n",
    "\n",
    "    id_token = os.environ.get('UNITY_COGNITO_ID_TOKEN')\n",
    "\n",
    "    # Get Identify ID\n",
    "    response_identity_get_id = client_identify.get_id(\n",
    "                AccountId = AWS_ACCOUNT_ID,\n",
    "                IdentityPoolId = IDENTITY_POOL_ID,\n",
    "                Logins = {\n",
    "                    'cognito-idp.us-west-2.amazonaws.com/' + COGNITO_USER_POOL_ID : id_token\n",
    "                }\n",
    "    ) \n",
    "    IDENTITY_ID = response_identity_get_id['IdentityId']                                                                     \n",
    "\n",
    "\n",
    "    # Get temporary AWS credentials for the identity    \n",
    "    aws_credentials = client_identify.get_credentials_for_identity(\n",
    "        IdentityId = IDENTITY_ID,\n",
    "        Logins = {\n",
    "            'cognito-idp.us-west-2.amazonaws.com/' + COGNITO_USER_POOL_ID : id_token\n",
    "        }\n",
    "    )\n",
    "\n",
    "    access_key_id = aws_credentials['Credentials']['AccessKeyId']\n",
    "    secret_key = aws_credentials['Credentials']['SecretKey']\n",
    "    session_token = aws_credentials['Credentials']['SessionToken']\n",
    "\n",
    "    os.environ[\"UNITY_AWS_ACCESS_KEY_ID\"] = str(access_key_id)\n",
    "    os.environ[\"UNITY_AWS_SECRET_ACCESS_KEY\"] = str(secret_key)\n",
    "    os.environ[\"UNITY_AWS_SESSION_TOKEN\"] = str(session_token)\n",
    "    \n",
    "    print('Temporary AWS Credentials are stored as environment variables: UNITY_AWS_ACCESS_KEY_ID, UNITY_AWS_SECRET_ACCESS_KEY and UNITY_AWS_SESSION_TOKEN')\n"
   ]
  },
  {
   "cell_type": "code",
   "execution_count": null,
   "id": "54d24607-6203-4b50-9eec-19d2b6d5d5dc",
   "metadata": {
    "tags": []
   },
   "outputs": [],
   "source": [
    "id_token = os.environ.get('UNITY_COGNITO_ID_TOKEN')\n",
    "get_aws_creds_from_cognito_id_token(IDENTITY_POOL_ID, COGNITO_USER_POOL_ID, AWS_ACCOUNT_ID, REGION, id_token)"
   ]
  },
  {
   "cell_type": "code",
   "execution_count": null,
   "id": "b9f6a455-4040-4a89-ba24-d10e3fb877b9",
   "metadata": {
    "tags": []
   },
   "outputs": [],
   "source": [
    "print(os.environ.get('UNITY_AWS_ACCESS_KEY_ID'))\n",
    "print(os.environ.get('UNITY_AWS_SECRET_ACCESS_KEY'))\n",
    "print(os.environ.get('UNITY_AWS_SESSION_TOKEN'))"
   ]
  },
  {
   "cell_type": "code",
   "execution_count": null,
   "id": "d2434f16-c66a-4f5c-9305-2f54efd305fd",
   "metadata": {
    "tags": []
   },
   "outputs": [],
   "source": [
    "# Create an S3 client\n",
    "s3_client = boto3.client('s3', \n",
    "                      aws_access_key_id = os.environ.get('UNITY_AWS_ACCESS_KEY_ID'),\n",
    "                      aws_secret_access_key = os.environ.get('UNITY_AWS_SECRET_ACCESS_KEY'),\n",
    "                      aws_session_token = os.environ.get('UNITY_AWS_SESSION_TOKEN')\n",
    "                      )\n",
    "    \n",
    "s3_response = s3_client.list_buckets()\n",
    "\n",
    "# Print S3 bucket names\n",
    "print('Existing buckets:')\n",
    "for bucket in s3_response['Buckets']:\n",
    "    print(f'  {bucket[\"Name\"]}')"
   ]
  }
 ],
 "metadata": {
  "kernelspec": {
   "display_name": "Python 3 (ipykernel)",
   "language": "python",
   "name": "python3"
  },
  "language_info": {
   "codemirror_mode": {
    "name": "ipython",
    "version": 3
   },
   "file_extension": ".py",
   "mimetype": "text/x-python",
   "name": "python",
   "nbconvert_exporter": "python",
   "pygments_lexer": "ipython3",
   "version": "3.10.10"
  }
 },
 "nbformat": 4,
 "nbformat_minor": 5
}
